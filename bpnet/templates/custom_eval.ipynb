{
 "cells": [
  {
   "cell_type": "code",
   "execution_count": 6,
   "source": [
    "# Example Parameters\n",
    "# model_dir = \"/Users/albertstanley/Code/quonlab/tests/out/test5_out\"\n",
    "# gpu = 0\n",
    "# memfrac_gpu = 0.45\n",
    "# in_memory = True\n",
    "# num_workers = 8"
   ],
   "outputs": [],
   "metadata": {}
  },
  {
   "cell_type": "code",
   "execution_count": 7,
   "source": [
    "# Ignore warnings\n",
    "import warnings\n",
    "warnings.filterwarnings('ignore')\n",
    "\n",
    "# Setup \n",
    "from pathlib import Path\n",
    "model_dir = Path(model_dir)"
   ],
   "outputs": [],
   "metadata": {}
  },
  {
   "cell_type": "code",
   "execution_count": 8,
   "source": [
    "# Plot loss curves\n",
    "import pandas as pd\n",
    "import matplotlib.pyplot as plt\n",
    "def plot_loss():\n",
    "    history = pd.read_csv(model_dir / \"history.csv\")\n",
    "    fig, ax = plt.subplots(figsize=(12, 6))\n",
    "    fig.patch.set_facecolor('white')\n",
    "    ax.plot(history.index, history['loss'],label=\"Total Training Loss\")\n",
    "    ax.plot(history.index, history['val_loss'],label=\"Total Validation Loss\")\n",
    "    ax.set_ylim([0,70000])\n",
    "    ax.set_xlabel(\"Epochs\")\n",
    "    ax.set_ylabel(\"Total Loss\")\n",
    "    ax.legend()\n",
    "    \n",
    "    return history\n",
    "# Plot Loss\n",
    "plot_loss()"
   ],
   "outputs": [
    {
     "output_type": "execute_result",
     "data": {
      "text/html": [
       "<div>\n",
       "<style scoped>\n",
       "    .dataframe tbody tr th:only-of-type {\n",
       "        vertical-align: middle;\n",
       "    }\n",
       "\n",
       "    .dataframe tbody tr th {\n",
       "        vertical-align: top;\n",
       "    }\n",
       "\n",
       "    .dataframe thead th {\n",
       "        text-align: right;\n",
       "    }\n",
       "</style>\n",
       "<table border=\"1\" class=\"dataframe\">\n",
       "  <thead>\n",
       "    <tr style=\"text-align: right;\">\n",
       "      <th></th>\n",
       "      <th>epoch</th>\n",
       "      <th>loss</th>\n",
       "      <th>rep1/counts_loss</th>\n",
       "      <th>rep1/profile_loss</th>\n",
       "      <th>val_loss</th>\n",
       "      <th>val_rep1/counts_loss</th>\n",
       "      <th>val_rep1/profile_loss</th>\n",
       "    </tr>\n",
       "  </thead>\n",
       "  <tbody>\n",
       "    <tr>\n",
       "      <th>0</th>\n",
       "      <td>0</td>\n",
       "      <td>341702.601562</td>\n",
       "      <td>90.075775</td>\n",
       "      <td>341612.523438</td>\n",
       "      <td>97151.437500</td>\n",
       "      <td>73.892235</td>\n",
       "      <td>97077.546875</td>\n",
       "    </tr>\n",
       "    <tr>\n",
       "      <th>1</th>\n",
       "      <td>1</td>\n",
       "      <td>165066.765625</td>\n",
       "      <td>83.247986</td>\n",
       "      <td>164983.515625</td>\n",
       "      <td>38782.457031</td>\n",
       "      <td>66.244560</td>\n",
       "      <td>38716.210938</td>\n",
       "    </tr>\n",
       "  </tbody>\n",
       "</table>\n",
       "</div>"
      ],
      "text/plain": [
       "   epoch           loss  rep1/counts_loss  rep1/profile_loss      val_loss  \\\n",
       "0      0  341702.601562         90.075775      341612.523438  97151.437500   \n",
       "1      1  165066.765625         83.247986      164983.515625  38782.457031   \n",
       "\n",
       "   val_rep1/counts_loss  val_rep1/profile_loss  \n",
       "0             73.892235           97077.546875  \n",
       "1             66.244560           38716.210938  "
      ]
     },
     "metadata": {},
     "execution_count": 8
    },
    {
     "output_type": "display_data",
     "data": {
      "image/png": "[encoded data removed]",
      "text/plain": [
       "<Figure size 864x432 with 1 Axes>"
      ]
     },
     "metadata": {}
    }
   ],
   "metadata": {}
  }
 ],
 "metadata": {
  "orig_nbformat": 4,
  "language_info": {
   "name": "python",
   "version": "3.6.13",
   "mimetype": "text/x-python",
   "codemirror_mode": {
    "name": "ipython",
    "version": 3
   },
   "pygments_lexer": "ipython3",
   "nbconvert_exporter": "python",
   "file_extension": ".py"
  },
  "kernelspec": {
   "name": "python3",
   "display_name": "Python 3.6.13 64-bit ('bpnet': conda)"
  },
  "interpreter": {
   "hash": "7b7861ebd532955488eea16130cf6d2b80beacb21f394dcef447a95872c7b946"
  }
 },
 "nbformat": 4,
 "nbformat_minor": 2
}